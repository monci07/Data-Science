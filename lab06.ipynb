{
 "cells": [
  {
   "cell_type": "markdown",
   "metadata": {},
   "source": [
    "# Lab 1: Randomization\n",
    "\n",
    "Welcome to Lab 1 of Data 8.2x! \n",
    "\n",
    "We will go over [iteration and simulations](https://www.inferentialthinking.com/chapters/10/sampling-and-empirical-distributions.html), as well as introduce the concept of [randomness](https://www.inferentialthinking.com/chapters/09/randomness.html). \n",
    "\n",
    "First, set up the tests and imports by running the cell below."
   ]
  },
  {
   "cell_type": "code",
   "execution_count": 1,
   "metadata": {},
   "outputs": [],
   "source": [
    "import numpy as np\n",
    "from datascience import *\n",
    "\n",
    "from gofer.ok import check"
   ]
  },
  {
   "cell_type": "markdown",
   "metadata": {},
   "source": [
    "## 1. Nachos and Conditionals"
   ]
  },
  {
   "cell_type": "markdown",
   "metadata": {},
   "source": [
    "In Python, Boolean values can either be `True` or `False`. We get Boolean values when using comparison operators such as `<` (less than), `>` (greater than), and `==` (equal to). A list of common comparison operators can be found below!\n",
    "\n",
    "<img src=\"comparisons.png\">"
   ]
  },
  {
   "cell_type": "code",
   "execution_count": 2,
   "metadata": {},
   "outputs": [
    {
     "data": {
      "text/plain": [
       "True"
      ]
     },
     "execution_count": 2,
     "metadata": {},
     "output_type": "execute_result"
    }
   ],
   "source": [
    "3 > 1 + 1"
   ]
  },
  {
   "cell_type": "markdown",
   "metadata": {},
   "source": [
    "We can even assign the result of a comparison operation to a variable."
   ]
  },
  {
   "cell_type": "code",
   "execution_count": 3,
   "metadata": {},
   "outputs": [
    {
     "data": {
      "text/plain": [
       "True"
      ]
     },
     "execution_count": 3,
     "metadata": {},
     "output_type": "execute_result"
    }
   ],
   "source": [
    "result = 10 / 2 == 5\n",
    "result"
   ]
  },
  {
   "cell_type": "markdown",
   "metadata": {},
   "source": [
    "Arrays are compatible with comparison operators. The output is an array of boolean values."
   ]
  },
  {
   "cell_type": "code",
   "execution_count": 4,
   "metadata": {},
   "outputs": [
    {
     "data": {
      "text/plain": [
       "array([False,  True,  True,  True, False, False])"
      ]
     },
     "execution_count": 4,
     "metadata": {},
     "output_type": "execute_result"
    }
   ],
   "source": [
    "make_array(1, 5, 7, 8, 3, -1) > 3"
   ]
  },
  {
   "cell_type": "markdown",
   "metadata": {},
   "source": [
    "Waiting on the dining table just for you is a hot bowl of nachos! Let's say that whenever you take a nacho, it will have cheese, salsa, both, or neither (just a plain tortilla chip). \n",
    "\n",
    "Using the function call `np.random.choice(array_name)`, let's simulate taking nachos from the bowl at random. Start by running the cell below several times, and observe how the results change."
   ]
  },
  {
   "cell_type": "code",
   "execution_count": 5,
   "metadata": {},
   "outputs": [
    {
     "data": {
      "text/plain": [
       "'salsa'"
      ]
     },
     "execution_count": 5,
     "metadata": {},
     "output_type": "execute_result"
    }
   ],
   "source": [
    "nachos = make_array('cheese', 'salsa', 'both', 'neither')\n",
    "np.random.choice(nachos)"
   ]
  },
  {
   "cell_type": "markdown",
   "metadata": {},
   "source": [
    "**Question 1.1** <br/> Assume we took ten nachos at random, and stored the results in an array called `ten_nachos` as done below. Find the number of nachos with only cheese using code (do not hardcode the answer).  \n",
    "\n",
    "*Hint:* Our solution involves a comparison operator and the `np.count_nonzero` method."
   ]
  },
  {
   "cell_type": "code",
   "execution_count": 6,
   "metadata": {},
   "outputs": [
    {
     "data": {
      "text/plain": [
       "3"
      ]
     },
     "execution_count": 6,
     "metadata": {},
     "output_type": "execute_result"
    }
   ],
   "source": [
    "ten_nachos = make_array('neither', 'cheese', 'both', 'both', 'cheese', 'salsa', 'both', 'neither', 'cheese', 'both')\n",
    "number_cheese = np.count_nonzero(ten_nachos==\"cheese\")\n",
    "number_cheese"
   ]
  },
  {
   "cell_type": "code",
   "execution_count": 7,
   "metadata": {},
   "outputs": [
    {
     "data": {
      "text/html": [
       "\n",
       "    \n",
       "    \n",
       "        <p>All tests passed!</p>\n",
       "    \n",
       "    "
      ],
      "text/plain": [
       "<gofer.ok.OKTestsResult at 0x7f1b778d0190>"
      ]
     },
     "execution_count": 7,
     "metadata": {},
     "output_type": "execute_result"
    }
   ],
   "source": [
    "check('tests/q1_1.py')"
   ]
  },
  {
   "cell_type": "markdown",
   "metadata": {},
   "source": [
    "**Conditional Statements**\n",
    "\n",
    "A conditional statement is made up of many lines that allow Python to choose from different alternatives based on whether some condition is true.\n",
    "\n",
    "Here is a basic example.\n",
    "\n",
    "```\n",
    "def sign(x):\n",
    "    if x > 0:\n",
    "        return 'Positive'\n",
    "```\n",
    "\n",
    "How the function works is if the input `x` is greater than `0`, we get the string `'Positive'` back.\n",
    "\n",
    "If we want to test multiple conditions at once, we use the following general format.\n",
    "\n",
    "```\n",
    "if <if expression>:\n",
    "    <if body>\n",
    "elif <elif expression 0>:\n",
    "    <elif body 0>\n",
    "elif <elif expression 1>:\n",
    "    <elif body 1>\n",
    "...\n",
    "else:\n",
    "    <else body>\n",
    "```\n",
    "\n",
    "Only one of the bodies will ever be executed. Each `if` and `elif` expression is evaluated and considered in order, starting at the top. As soon as a true value is found, the corresponding body is executed, and the rest of the expression is skipped. If none of the `if` or `elif` expressions are true, then the `else body` is executed. For more examples and explanation, refer to [Section 9.1](https://www.inferentialthinking.com/chapters/09/1/conditional-statements.html)."
   ]
  },
  {
   "cell_type": "markdown",
   "metadata": {},
   "source": [
    "**Question 1.2** <br/>Complete the following conditional statement so that the string `'More please'` is assigned to `say_please` if the number of nachos with cheese in `ten_nachos` is less than `5`.\n",
    "*Hint*: You should not have to reference the variable `ten_nachos`."
   ]
  },
  {
   "cell_type": "code",
   "execution_count": 8,
   "metadata": {
    "for_assignment_type": "student"
   },
   "outputs": [
    {
     "data": {
      "text/plain": [
       "'More please'"
      ]
     },
     "execution_count": 8,
     "metadata": {},
     "output_type": "execute_result"
    }
   ],
   "source": [
    "say_please = '?'\n",
    "\n",
    "if np.count_nonzero(ten_nachos==\"cheese\")<5:\n",
    "    say_please = 'More please'\n",
    "    \n",
    "say_please"
   ]
  },
  {
   "cell_type": "code",
   "execution_count": 9,
   "metadata": {},
   "outputs": [
    {
     "data": {
      "text/html": [
       "\n",
       "    \n",
       "    \n",
       "        <p>All tests passed!</p>\n",
       "    \n",
       "    "
      ],
      "text/plain": [
       "<gofer.ok.OKTestsResult at 0x7f1b77173090>"
      ]
     },
     "execution_count": 9,
     "metadata": {},
     "output_type": "execute_result"
    }
   ],
   "source": [
    "check('tests/q1_2.py')"
   ]
  },
  {
   "cell_type": "markdown",
   "metadata": {},
   "source": [
    "**Question 1.3** <br/>Write a function called `nacho_reaction` that returns a string based on the type of nacho passed in as an argument. From top to bottom, the conditions should correspond to: `'cheese'`, `'salsa'`, `'both'`, `'neither'`.  "
   ]
  },
  {
   "cell_type": "code",
   "execution_count": 10,
   "metadata": {
    "for_assignment_type": "student"
   },
   "outputs": [
    {
     "data": {
      "text/plain": [
       "'Spicy!'"
      ]
     },
     "execution_count": 10,
     "metadata": {},
     "output_type": "execute_result"
    }
   ],
   "source": [
    "def nacho_reaction(nacho):\n",
    "    if nacho=='cheese':\n",
    "        return 'Cheesy!'\n",
    "    # next condition should return 'Spicy!'\n",
    "    if nacho=='salsa':\n",
    "        return 'Spicy!'\n",
    "    # next condition should return 'Wow!'\n",
    "    if nacho=='both':\n",
    "        return 'Wow!'\n",
    "    # next condition should return 'Meh.'\n",
    "    if nacho=='neither':\n",
    "        return 'Meh.'\n",
    "\n",
    "spicy_nacho = nacho_reaction('salsa')\n",
    "spicy_nacho"
   ]
  },
  {
   "cell_type": "code",
   "execution_count": 11,
   "metadata": {},
   "outputs": [
    {
     "data": {
      "text/html": [
       "\n",
       "    \n",
       "    \n",
       "        <p>All tests passed!</p>\n",
       "    \n",
       "    "
      ],
      "text/plain": [
       "<gofer.ok.OKTestsResult at 0x7f1b7716dbd0>"
      ]
     },
     "execution_count": 11,
     "metadata": {},
     "output_type": "execute_result"
    }
   ],
   "source": [
    "check('tests/q1_3.py')"
   ]
  },
  {
   "cell_type": "markdown",
   "metadata": {},
   "source": [
    "**Question 1.4** <br/>Add a column `'Reactions'` to the table `ten_nachos_reactions` that consists of reactions for each of the nachos in `ten_nachos`. \n",
    "\n",
    "*Hint:* Use the `apply` method. "
   ]
  },
  {
   "cell_type": "code",
   "execution_count": 12,
   "metadata": {
    "for_assignment_type": "student"
   },
   "outputs": [
    {
     "data": {
      "text/html": [
       "<table border=\"1\" class=\"dataframe\">\n",
       "    <thead>\n",
       "        <tr>\n",
       "            <th>Nachos</th> <th>Reactions</th>\n",
       "        </tr>\n",
       "    </thead>\n",
       "    <tbody>\n",
       "        <tr>\n",
       "            <td>neither</td> <td>Meh.     </td>\n",
       "        </tr>\n",
       "        <tr>\n",
       "            <td>cheese </td> <td>Cheesy!  </td>\n",
       "        </tr>\n",
       "        <tr>\n",
       "            <td>both   </td> <td>Wow!     </td>\n",
       "        </tr>\n",
       "        <tr>\n",
       "            <td>both   </td> <td>Wow!     </td>\n",
       "        </tr>\n",
       "        <tr>\n",
       "            <td>cheese </td> <td>Cheesy!  </td>\n",
       "        </tr>\n",
       "        <tr>\n",
       "            <td>salsa  </td> <td>Spicy!   </td>\n",
       "        </tr>\n",
       "        <tr>\n",
       "            <td>both   </td> <td>Wow!     </td>\n",
       "        </tr>\n",
       "        <tr>\n",
       "            <td>neither</td> <td>Meh.     </td>\n",
       "        </tr>\n",
       "        <tr>\n",
       "            <td>cheese </td> <td>Cheesy!  </td>\n",
       "        </tr>\n",
       "        <tr>\n",
       "            <td>both   </td> <td>Wow!     </td>\n",
       "        </tr>\n",
       "    </tbody>\n",
       "</table>"
      ],
      "text/plain": [
       "Nachos  | Reactions\n",
       "neither | Meh.\n",
       "cheese  | Cheesy!\n",
       "both    | Wow!\n",
       "both    | Wow!\n",
       "cheese  | Cheesy!\n",
       "salsa   | Spicy!\n",
       "both    | Wow!\n",
       "neither | Meh.\n",
       "cheese  | Cheesy!\n",
       "both    | Wow!"
      ]
     },
     "execution_count": 12,
     "metadata": {},
     "output_type": "execute_result"
    }
   ],
   "source": [
    "ten_nachos_reactions = Table().with_column('Nachos', ten_nachos)\n",
    "ten_nachos_reactions = ten_nachos_reactions.with_column('Reactions',ten_nachos_reactions.apply(nacho_reaction,'Nachos'))\n",
    "ten_nachos_reactions"
   ]
  },
  {
   "cell_type": "code",
   "execution_count": 13,
   "metadata": {},
   "outputs": [
    {
     "data": {
      "text/html": [
       "\n",
       "    \n",
       "    \n",
       "        <p>All tests passed!</p>\n",
       "    \n",
       "    "
      ],
      "text/plain": [
       "<gofer.ok.OKTestsResult at 0x7f1b7711f050>"
      ]
     },
     "execution_count": 13,
     "metadata": {},
     "output_type": "execute_result"
    }
   ],
   "source": [
    "check('tests/q1_4.py')"
   ]
  },
  {
   "cell_type": "markdown",
   "metadata": {},
   "source": [
    "**Question 1.5** <br/>Using code, find the number of `'Wow!'` reactions for the nachos in `ten_nachos_reactions`."
   ]
  },
  {
   "cell_type": "code",
   "execution_count": 14,
   "metadata": {},
   "outputs": [
    {
     "data": {
      "text/plain": [
       "4"
      ]
     },
     "execution_count": 14,
     "metadata": {},
     "output_type": "execute_result"
    }
   ],
   "source": [
    "number_wow_reactions = np.count_nonzero(ten_nachos_reactions.column('Reactions')==\"Wow!\")\n",
    "number_wow_reactions"
   ]
  },
  {
   "cell_type": "code",
   "execution_count": 15,
   "metadata": {},
   "outputs": [
    {
     "data": {
      "text/html": [
       "\n",
       "    \n",
       "    \n",
       "        <p>All tests passed!</p>\n",
       "    \n",
       "    "
      ],
      "text/plain": [
       "<gofer.ok.OKTestsResult at 0x7f1b77118610>"
      ]
     },
     "execution_count": 15,
     "metadata": {},
     "output_type": "execute_result"
    }
   ],
   "source": [
    "check('tests/q1_5.py')"
   ]
  },
  {
   "cell_type": "markdown",
   "metadata": {},
   "source": [
    "## 2. Simulations and For Loops\n",
    "Using a `for` statement, we can perform a task multiple times. This is known as iteration. Here, we'll simulate drawing different suits from a deck of cards. "
   ]
  },
  {
   "cell_type": "code",
   "execution_count": 16,
   "metadata": {},
   "outputs": [
    {
     "data": {
      "text/plain": [
       "array(['♡', '♢', '♧', '♧', '♤', '♡'], dtype='<U32')"
      ]
     },
     "execution_count": 16,
     "metadata": {},
     "output_type": "execute_result"
    }
   ],
   "source": [
    "suits = make_array(\"♤\", \"♡\", \"♢\", \"♧\")\n",
    "\n",
    "draws = make_array()\n",
    "\n",
    "repetitions = 6\n",
    "\n",
    "for i in np.arange(repetitions):\n",
    "    draws = np.append(draws, np.random.choice(suits))\n",
    "\n",
    "draws"
   ]
  },
  {
   "cell_type": "markdown",
   "metadata": {},
   "source": [
    "The unrolled version of this `for` loop can be found below."
   ]
  },
  {
   "cell_type": "code",
   "execution_count": 17,
   "metadata": {},
   "outputs": [
    {
     "data": {
      "text/plain": [
       "array(['♡', '♧', '♡', '♡', '♢', '♤'], dtype='<U32')"
      ]
     },
     "execution_count": 17,
     "metadata": {},
     "output_type": "execute_result"
    }
   ],
   "source": [
    "draws = make_array()\n",
    "\n",
    "draws = np.append(draws, np.random.choice(suits))\n",
    "draws = np.append(draws, np.random.choice(suits))\n",
    "draws = np.append(draws, np.random.choice(suits))\n",
    "draws = np.append(draws, np.random.choice(suits))\n",
    "draws = np.append(draws, np.random.choice(suits))\n",
    "draws = np.append(draws, np.random.choice(suits))\n",
    "\n",
    "draws"
   ]
  },
  {
   "cell_type": "markdown",
   "metadata": {},
   "source": [
    "In the example above, the `for` loop appends a random draw to the `draws` array for every number in `np.arange(repetitions)`. \n",
    "\n",
    "Here's a nice way to think of what we did above. We had a deck of 4 cards of different suits, we randomly drew one card, saw the suit, kept track of it in `draws`, and put the card back into the deck. We repeated this for a total of 6 times without having to repeat code, thanks to the `for` loop. We simulated this experiment using a `for` loop. \n",
    "\n",
    "Another use of iteration is to loop through a set of values. For instance, we can print out all of the colors of the rainbow.\n"
   ]
  },
  {
   "cell_type": "code",
   "execution_count": 18,
   "metadata": {},
   "outputs": [
    {
     "name": "stdout",
     "output_type": "stream",
     "text": [
      "red\n",
      "orange\n",
      "yellow\n",
      "green\n",
      "blue\n",
      "indigo\n",
      "violet\n"
     ]
    }
   ],
   "source": [
    "rainbow = make_array(\"red\", \"orange\", \"yellow\", \"green\", \"blue\", \"indigo\", \"violet\")\n",
    "\n",
    "for color in rainbow:\n",
    "    print(color)"
   ]
  },
  {
   "cell_type": "markdown",
   "metadata": {},
   "source": [
    "We can see that the indented part of the `for` loop, known as the body, is executed once for each item in `rainbow`. Note that the name `color` is arbitrary; we could easily have named it something else. The important thing is we stay consistent throughout the for loop. "
   ]
  },
  {
   "cell_type": "code",
   "execution_count": 19,
   "metadata": {},
   "outputs": [
    {
     "name": "stdout",
     "output_type": "stream",
     "text": [
      "red\n",
      "orange\n",
      "yellow\n",
      "green\n",
      "blue\n",
      "indigo\n",
      "violet\n"
     ]
    }
   ],
   "source": [
    "for another_name in rainbow:\n",
    "    print(another_name)"
   ]
  },
  {
   "cell_type": "markdown",
   "metadata": {},
   "source": [
    "In general, however, we would like the variable name to be somewhat informative. "
   ]
  },
  {
   "cell_type": "markdown",
   "metadata": {},
   "source": [
    "**Question 2.1** <br/>Clay is playing darts. His dartboard contains ten equal-sized zones with point values from 1 to 10. Write code that simulates his total score after 1000 dart tosses. Make sure to use a `for` loop.\n",
    "\n",
    "*Hint:* There are three steps to this problem (and most simulations): \n",
    "1. Deciding the possible values you can take in the experiment (point values in this case)\n",
    "2. Running through the experiment a certain amount of times (running through 1000 dart tosses, and randomly getting a value per toss in this case)\n",
    "3. Keeping track of the total information of each time you ran through the experiment (the total score in this case)"
   ]
  },
  {
   "cell_type": "code",
   "execution_count": 20,
   "metadata": {
    "for_assignment_type": "student"
   },
   "outputs": [
    {
     "data": {
      "text/plain": [
       "5439"
      ]
     },
     "execution_count": 20,
     "metadata": {},
     "output_type": "execute_result"
    }
   ],
   "source": [
    "possible_point_values = make_array(1,2,3,4,5,6,7,8,9,10)\n",
    "tosses = 1000\n",
    "total_score = 0\n",
    "for i in range(0,tosses):\n",
    "    total_score += np.random.choice(possible_point_values)\n",
    "\n",
    "total_score"
   ]
  },
  {
   "cell_type": "code",
   "execution_count": 21,
   "metadata": {},
   "outputs": [
    {
     "data": {
      "text/html": [
       "\n",
       "    \n",
       "    \n",
       "        <p>All tests passed!</p>\n",
       "    \n",
       "    "
      ],
      "text/plain": [
       "<gofer.ok.OKTestsResult at 0x7f1b771397d0>"
      ]
     },
     "execution_count": 21,
     "metadata": {},
     "output_type": "execute_result"
    }
   ],
   "source": [
    "check('tests/q2_1.py')"
   ]
  },
  {
   "cell_type": "markdown",
   "metadata": {},
   "source": [
    "**Question 2.2** <br/>In the following cell, we've loaded the text of _Pride and Prejudice_ by Jane Austen, split it into individual words, and stored these words in an array. Using a `for` loop, assign `longer_than_five` to the number of words in the novel that are more than 5 letters long.\n",
    "\n",
    "*Hint*: You can find the number of letters in a word with the `len` function."
   ]
  },
  {
   "cell_type": "code",
   "execution_count": 22,
   "metadata": {
    "for_assignment_type": "student"
   },
   "outputs": [
    {
     "data": {
      "text/plain": [
       "35453"
      ]
     },
     "execution_count": 22,
     "metadata": {},
     "output_type": "execute_result"
    }
   ],
   "source": [
    "austen_string = open('Austen_PrideAndPrejudice.txt', encoding='utf-8').read()\n",
    "p_and_p_words = np.array(austen_string.split())\n",
    "\n",
    "longer_than_five = 0\n",
    "\n",
    "for i in range(len(p_and_p_words)):\n",
    "    if len(p_and_p_words[i])>5:\n",
    "        longer_than_five +=1\n",
    "\n",
    "\n",
    "longer_than_five"
   ]
  },
  {
   "cell_type": "code",
   "execution_count": 23,
   "metadata": {},
   "outputs": [
    {
     "data": {
      "text/html": [
       "\n",
       "    \n",
       "    \n",
       "        <p>All tests passed!</p>\n",
       "    \n",
       "    "
      ],
      "text/plain": [
       "<gofer.ok.OKTestsResult at 0x7f1b7711f190>"
      ]
     },
     "execution_count": 23,
     "metadata": {},
     "output_type": "execute_result"
    }
   ],
   "source": [
    "check('tests/q2_2.py')"
   ]
  },
  {
   "cell_type": "markdown",
   "metadata": {},
   "source": [
    "**Question 2.3** <br/>Using simulation with 10,000 trials, assign `chance_of_all_different` to an estimate of the chance that if you pick three words from Pride and Prejudice uniformly at random (with replacement), they all have different lengths. \n",
    "\n",
    "*Hint*: Remember that `!=` only checks for non-equality between two items, not three. However, you can use `!=` more than once in the same line. \n",
    "\n",
    "For example, `2 != 3 != 4` first checks for non-equality between `2` and `3`, then `3` and `4`, but NOT `2` and `4`."
   ]
  },
  {
   "cell_type": "code",
   "execution_count": 24,
   "metadata": {
    "for_assignment_type": "student"
   },
   "outputs": [
    {
     "data": {
      "text/plain": [
       "0.6348"
      ]
     },
     "execution_count": 24,
     "metadata": {},
     "output_type": "execute_result"
    }
   ],
   "source": [
    "trials = 10000\n",
    "different = 0\n",
    "\n",
    "for i in range(trials):\n",
    "    aux = make_array()\n",
    "    for j in range(0,3):\n",
    "        aux = np.append(aux,len(np.random.choice(p_and_p_words)))\n",
    "    if aux[0] != aux[1] != aux[2] != aux[0]:\n",
    "        different += 1\n",
    "\n",
    "chance_of_all_different = different/trials\n",
    "\n",
    "chance_of_all_different"
   ]
  },
  {
   "cell_type": "code",
   "execution_count": 25,
   "metadata": {},
   "outputs": [
    {
     "data": {
      "text/html": [
       "\n",
       "    \n",
       "    \n",
       "        <p>All tests passed!</p>\n",
       "    \n",
       "    "
      ],
      "text/plain": [
       "<gofer.ok.OKTestsResult at 0x7f1b7702af50>"
      ]
     },
     "execution_count": 25,
     "metadata": {},
     "output_type": "execute_result"
    }
   ],
   "source": [
    "check('tests/q2_3.py')"
   ]
  },
  {
   "cell_type": "markdown",
   "metadata": {},
   "source": [
    "## 3. Finding Probabilities\n",
    "After a long day of class, Clay decides to go to a food court for dinner. Today's menu has Clay's four favorite foods: enchiladas, hamburgers, pizza, and spaghetti. However, each dish has a 30% chance of running out before Clay can get to the food court."
   ]
  },
  {
   "cell_type": "markdown",
   "metadata": {},
   "source": [
    "**Question 3.1** <br/>What is the probability that Clay will be able to eat pizza at the food court?"
   ]
  },
  {
   "cell_type": "code",
   "execution_count": 26,
   "metadata": {},
   "outputs": [],
   "source": [
    "pizza_prob = 1 - 0.3"
   ]
  },
  {
   "cell_type": "code",
   "execution_count": 27,
   "metadata": {},
   "outputs": [
    {
     "data": {
      "text/html": [
       "\n",
       "    \n",
       "    \n",
       "        <p>All tests passed!</p>\n",
       "    \n",
       "    "
      ],
      "text/plain": [
       "<gofer.ok.OKTestsResult at 0x7f1b770262d0>"
      ]
     },
     "execution_count": 27,
     "metadata": {},
     "output_type": "execute_result"
    },
    {
     "name": "stderr",
     "output_type": "stream",
     "text": [
      "Task exception was never retrieved\n",
      "future: <Task finished coro=<log_check() done, defined at /srv/conda/envs/notebook/lib/python3.7/site-packages/gofer/ok.py:290> exception=ConnectionError(MaxRetryError(\"HTTPConnectionPool(host='104.197.68.240', port=10101): Max retries exceeded with url: / (Caused by NewConnectionError('<urllib3.connection.HTTPConnection object at 0x7f1b7703cd90>: Failed to establish a new connection: [Errno 110] Connection timed out'))\"))>\n",
      "Traceback (most recent call last):\n",
      "  File \"/srv/conda/envs/notebook/lib/python3.7/site-packages/urllib3/connection.py\", line 170, in _new_conn\n",
      "    (self._dns_host, self.port), self.timeout, **extra_kw\n",
      "  File \"/srv/conda/envs/notebook/lib/python3.7/site-packages/urllib3/util/connection.py\", line 96, in create_connection\n",
      "    raise err\n",
      "  File \"/srv/conda/envs/notebook/lib/python3.7/site-packages/urllib3/util/connection.py\", line 86, in create_connection\n",
      "    sock.connect(sa)\n",
      "TimeoutError: [Errno 110] Connection timed out\n",
      "\n",
      "During handling of the above exception, another exception occurred:\n",
      "\n",
      "Traceback (most recent call last):\n",
      "  File \"/srv/conda/envs/notebook/lib/python3.7/site-packages/urllib3/connectionpool.py\", line 706, in urlopen\n",
      "    chunked=chunked,\n",
      "  File \"/srv/conda/envs/notebook/lib/python3.7/site-packages/urllib3/connectionpool.py\", line 394, in _make_request\n",
      "    conn.request(method, url, **httplib_request_kw)\n",
      "  File \"/srv/conda/envs/notebook/lib/python3.7/site-packages/urllib3/connection.py\", line 234, in request\n",
      "    super(HTTPConnection, self).request(method, url, body=body, headers=headers)\n",
      "  File \"/srv/conda/envs/notebook/lib/python3.7/http/client.py\", line 1277, in request\n",
      "    self._send_request(method, url, body, headers, encode_chunked)\n",
      "  File \"/srv/conda/envs/notebook/lib/python3.7/http/client.py\", line 1323, in _send_request\n",
      "    self.endheaders(body, encode_chunked=encode_chunked)\n",
      "  File \"/srv/conda/envs/notebook/lib/python3.7/http/client.py\", line 1272, in endheaders\n",
      "    self._send_output(message_body, encode_chunked=encode_chunked)\n",
      "  File \"/srv/conda/envs/notebook/lib/python3.7/http/client.py\", line 1032, in _send_output\n",
      "    self.send(msg)\n",
      "  File \"/srv/conda/envs/notebook/lib/python3.7/http/client.py\", line 972, in send\n",
      "    self.connect()\n",
      "  File \"/srv/conda/envs/notebook/lib/python3.7/site-packages/urllib3/connection.py\", line 200, in connect\n",
      "    conn = self._new_conn()\n",
      "  File \"/srv/conda/envs/notebook/lib/python3.7/site-packages/urllib3/connection.py\", line 182, in _new_conn\n",
      "    self, \"Failed to establish a new connection: %s\" % e\n",
      "urllib3.exceptions.NewConnectionError: <urllib3.connection.HTTPConnection object at 0x7f1b7703cd90>: Failed to establish a new connection: [Errno 110] Connection timed out\n",
      "\n",
      "During handling of the above exception, another exception occurred:\n",
      "\n",
      "Traceback (most recent call last):\n",
      "  File \"/srv/conda/envs/notebook/lib/python3.7/site-packages/requests/adapters.py\", line 449, in send\n",
      "    timeout=timeout\n",
      "  File \"/srv/conda/envs/notebook/lib/python3.7/site-packages/urllib3/connectionpool.py\", line 756, in urlopen\n",
      "    method, url, error=e, _pool=self, _stacktrace=sys.exc_info()[2]\n",
      "  File \"/srv/conda/envs/notebook/lib/python3.7/site-packages/urllib3/util/retry.py\", line 574, in increment\n",
      "    raise MaxRetryError(_pool, url, error or ResponseError(cause))\n",
      "urllib3.exceptions.MaxRetryError: HTTPConnectionPool(host='104.197.68.240', port=10101): Max retries exceeded with url: / (Caused by NewConnectionError('<urllib3.connection.HTTPConnection object at 0x7f1b7703cd90>: Failed to establish a new connection: [Errno 110] Connection timed out'))\n",
      "\n",
      "During handling of the above exception, another exception occurred:\n",
      "\n",
      "Traceback (most recent call last):\n",
      "  File \"/srv/conda/envs/notebook/lib/python3.7/site-packages/gofer/ok.py\", line 313, in log_check\n",
      "    response = requests.post(request_url, json=json_params)\n",
      "  File \"/srv/conda/envs/notebook/lib/python3.7/site-packages/requests/api.py\", line 117, in post\n",
      "    return request('post', url, data=data, json=json, **kwargs)\n",
      "  File \"/srv/conda/envs/notebook/lib/python3.7/site-packages/requests/api.py\", line 61, in request\n",
      "    return session.request(method=method, url=url, **kwargs)\n",
      "  File \"/srv/conda/envs/notebook/lib/python3.7/site-packages/requests/sessions.py\", line 542, in request\n",
      "    resp = self.send(prep, **send_kwargs)\n",
      "  File \"/srv/conda/envs/notebook/lib/python3.7/site-packages/requests/sessions.py\", line 655, in send\n",
      "    r = adapter.send(request, **kwargs)\n",
      "  File \"/srv/conda/envs/notebook/lib/python3.7/site-packages/requests/adapters.py\", line 516, in send\n",
      "    raise ConnectionError(e, request=request)\n",
      "requests.exceptions.ConnectionError: HTTPConnectionPool(host='104.197.68.240', port=10101): Max retries exceeded with url: / (Caused by NewConnectionError('<urllib3.connection.HTTPConnection object at 0x7f1b7703cd90>: Failed to establish a new connection: [Errno 110] Connection timed out'))\n"
     ]
    }
   ],
   "source": [
    "check('tests/q3_1.py')"
   ]
  },
  {
   "cell_type": "markdown",
   "metadata": {},
   "source": [
    "**Question 3.2** <br/>What is the probability that Clay will be able to eat all four of these foods at the food court?"
   ]
  },
  {
   "cell_type": "code",
   "execution_count": 28,
   "metadata": {},
   "outputs": [],
   "source": [
    "all_prob = (1 - 0.3) ** 4"
   ]
  },
  {
   "cell_type": "code",
   "execution_count": 29,
   "metadata": {},
   "outputs": [
    {
     "data": {
      "text/html": [
       "\n",
       "    \n",
       "    \n",
       "        <p>All tests passed!</p>\n",
       "    \n",
       "    "
      ],
      "text/plain": [
       "<gofer.ok.OKTestsResult at 0x7f1b77173510>"
      ]
     },
     "execution_count": 29,
     "metadata": {},
     "output_type": "execute_result"
    }
   ],
   "source": [
    "check('tests/q3_2.py')"
   ]
  },
  {
   "cell_type": "markdown",
   "metadata": {},
   "source": [
    "**Question 3.3** <br/>What is the probability that the food court will have run out of something before Clay can get there?"
   ]
  },
  {
   "cell_type": "code",
   "execution_count": 30,
   "metadata": {},
   "outputs": [],
   "source": [
    "something_is_out = (1 - 0.7** 4) "
   ]
  },
  {
   "cell_type": "code",
   "execution_count": 31,
   "metadata": {},
   "outputs": [
    {
     "data": {
      "text/html": [
       "\n",
       "    \n",
       "    \n",
       "        <p>All tests passed!</p>\n",
       "    \n",
       "    "
      ],
      "text/plain": [
       "<gofer.ok.OKTestsResult at 0x7f1b76eb2650>"
      ]
     },
     "execution_count": 31,
     "metadata": {},
     "output_type": "execute_result"
    }
   ],
   "source": [
    "check('tests/q3_3.py')"
   ]
  },
  {
   "cell_type": "markdown",
   "metadata": {},
   "source": [
    "To make up for their unpredictable food supply, the food court decides to hold a contest for some free food. There is a bag with two red marbles, two green marbles, and two blue marbles. Clay has to draw three marbles separately. In order to win, all three of these marbles must be of different colors."
   ]
  },
  {
   "cell_type": "markdown",
   "metadata": {},
   "source": [
    "**Question 3.4** <br/>What is the probability of Clay winning the contest?"
   ]
  },
  {
   "cell_type": "code",
   "execution_count": 32,
   "metadata": {},
   "outputs": [],
   "source": [
    "winning_prob = (2/6 * 3)*(2/5 * 2)*(2/4) "
   ]
  },
  {
   "cell_type": "code",
   "execution_count": 33,
   "metadata": {},
   "outputs": [
    {
     "data": {
      "text/html": [
       "\n",
       "    \n",
       "    \n",
       "        <p>All tests passed!</p>\n",
       "    \n",
       "    "
      ],
      "text/plain": [
       "<gofer.ok.OKTestsResult at 0x7f1b7703c350>"
      ]
     },
     "execution_count": 33,
     "metadata": {},
     "output_type": "execute_result"
    }
   ],
   "source": [
    "check('tests/q3_4.py')"
   ]
  },
  {
   "cell_type": "markdown",
   "metadata": {},
   "source": [
    "## Submission"
   ]
  },
  {
   "cell_type": "code",
   "execution_count": 34,
   "metadata": {},
   "outputs": [
    {
     "name": "stdout",
     "output_type": "stream",
     "text": [
      "Question 1:\n"
     ]
    },
    {
     "data": {
      "text/html": [
       "\n",
       "    \n",
       "    \n",
       "        <p>All tests passed!</p>\n",
       "    \n",
       "    "
      ],
      "text/plain": [
       "<gofer.ok.OKTestsResult at 0x7f1b77026690>"
      ]
     },
     "metadata": {},
     "output_type": "display_data"
    },
    {
     "name": "stdout",
     "output_type": "stream",
     "text": [
      "Question 2:\n"
     ]
    },
    {
     "data": {
      "text/html": [
       "\n",
       "    \n",
       "    \n",
       "        <p>All tests passed!</p>\n",
       "    \n",
       "    "
      ],
      "text/plain": [
       "<gofer.ok.OKTestsResult at 0x7f1b77026d50>"
      ]
     },
     "metadata": {},
     "output_type": "display_data"
    },
    {
     "name": "stdout",
     "output_type": "stream",
     "text": [
      "Question 3:\n"
     ]
    },
    {
     "data": {
      "text/html": [
       "\n",
       "    \n",
       "    \n",
       "        <p>All tests passed!</p>\n",
       "    \n",
       "    "
      ],
      "text/plain": [
       "<gofer.ok.OKTestsResult at 0x7f1b77118250>"
      ]
     },
     "metadata": {},
     "output_type": "display_data"
    },
    {
     "name": "stdout",
     "output_type": "stream",
     "text": [
      "Question 4:\n"
     ]
    },
    {
     "data": {
      "text/html": [
       "\n",
       "    \n",
       "    \n",
       "        <p>All tests passed!</p>\n",
       "    \n",
       "    "
      ],
      "text/plain": [
       "<gofer.ok.OKTestsResult at 0x7f1b77026510>"
      ]
     },
     "metadata": {},
     "output_type": "display_data"
    },
    {
     "name": "stdout",
     "output_type": "stream",
     "text": [
      "Question 5:\n"
     ]
    },
    {
     "data": {
      "text/html": [
       "\n",
       "    \n",
       "    \n",
       "        <p>All tests passed!</p>\n",
       "    \n",
       "    "
      ],
      "text/plain": [
       "<gofer.ok.OKTestsResult at 0x7f1b77026f90>"
      ]
     },
     "metadata": {},
     "output_type": "display_data"
    },
    {
     "name": "stdout",
     "output_type": "stream",
     "text": [
      "Question 6:\n"
     ]
    },
    {
     "data": {
      "text/html": [
       "\n",
       "    \n",
       "    \n",
       "        <p>All tests passed!</p>\n",
       "    \n",
       "    "
      ],
      "text/plain": [
       "<gofer.ok.OKTestsResult at 0x7f1b77026d90>"
      ]
     },
     "metadata": {},
     "output_type": "display_data"
    },
    {
     "name": "stdout",
     "output_type": "stream",
     "text": [
      "Question 7:\n"
     ]
    },
    {
     "data": {
      "text/html": [
       "\n",
       "    \n",
       "    \n",
       "        <p>All tests passed!</p>\n",
       "    \n",
       "    "
      ],
      "text/plain": [
       "<gofer.ok.OKTestsResult at 0x7f1b7702a310>"
      ]
     },
     "metadata": {},
     "output_type": "display_data"
    },
    {
     "name": "stdout",
     "output_type": "stream",
     "text": [
      "Question 8:\n"
     ]
    },
    {
     "data": {
      "text/html": [
       "\n",
       "    \n",
       "    \n",
       "        <p>All tests passed!</p>\n",
       "    \n",
       "    "
      ],
      "text/plain": [
       "<gofer.ok.OKTestsResult at 0x7f1b76eb2bd0>"
      ]
     },
     "metadata": {},
     "output_type": "display_data"
    },
    {
     "name": "stdout",
     "output_type": "stream",
     "text": [
      "Question 9:\n"
     ]
    },
    {
     "data": {
      "text/html": [
       "\n",
       "    \n",
       "    \n",
       "        <p>All tests passed!</p>\n",
       "    \n",
       "    "
      ],
      "text/plain": [
       "<gofer.ok.OKTestsResult at 0x7f1b76eb2910>"
      ]
     },
     "metadata": {},
     "output_type": "display_data"
    },
    {
     "name": "stdout",
     "output_type": "stream",
     "text": [
      "Question 10:\n"
     ]
    },
    {
     "data": {
      "text/html": [
       "\n",
       "    \n",
       "    \n",
       "        <p>All tests passed!</p>\n",
       "    \n",
       "    "
      ],
      "text/plain": [
       "<gofer.ok.OKTestsResult at 0x7f1b77026e90>"
      ]
     },
     "metadata": {},
     "output_type": "display_data"
    },
    {
     "name": "stdout",
     "output_type": "stream",
     "text": [
      "Question 11:\n"
     ]
    },
    {
     "data": {
      "text/html": [
       "\n",
       "    \n",
       "    \n",
       "        <p>All tests passed!</p>\n",
       "    \n",
       "    "
      ],
      "text/plain": [
       "<gofer.ok.OKTestsResult at 0x7f1b77026410>"
      ]
     },
     "metadata": {},
     "output_type": "display_data"
    },
    {
     "name": "stdout",
     "output_type": "stream",
     "text": [
      "Question 12:\n"
     ]
    },
    {
     "data": {
      "text/html": [
       "\n",
       "    \n",
       "    \n",
       "        <p>All tests passed!</p>\n",
       "    \n",
       "    "
      ],
      "text/plain": [
       "<gofer.ok.OKTestsResult at 0x7f1b76eb2810>"
      ]
     },
     "metadata": {},
     "output_type": "display_data"
    },
    {
     "data": {
      "text/plain": [
       "1.0"
      ]
     },
     "metadata": {},
     "output_type": "display_data"
    },
    {
     "name": "stderr",
     "output_type": "stream",
     "text": [
      "Task exception was never retrieved\n",
      "future: <Task finished coro=<log_check() done, defined at /srv/conda/envs/notebook/lib/python3.7/site-packages/gofer/ok.py:290> exception=ConnectionError(MaxRetryError(\"HTTPConnectionPool(host='104.197.68.240', port=10101): Max retries exceeded with url: / (Caused by NewConnectionError('<urllib3.connection.HTTPConnection object at 0x7f1b76eb2d50>: Failed to establish a new connection: [Errno 110] Connection timed out'))\"))>\n",
      "Traceback (most recent call last):\n",
      "  File \"/srv/conda/envs/notebook/lib/python3.7/site-packages/urllib3/connection.py\", line 170, in _new_conn\n",
      "    (self._dns_host, self.port), self.timeout, **extra_kw\n",
      "  File \"/srv/conda/envs/notebook/lib/python3.7/site-packages/urllib3/util/connection.py\", line 96, in create_connection\n",
      "    raise err\n",
      "  File \"/srv/conda/envs/notebook/lib/python3.7/site-packages/urllib3/util/connection.py\", line 86, in create_connection\n",
      "    sock.connect(sa)\n",
      "TimeoutError: [Errno 110] Connection timed out\n",
      "\n",
      "During handling of the above exception, another exception occurred:\n",
      "\n",
      "Traceback (most recent call last):\n",
      "  File \"/srv/conda/envs/notebook/lib/python3.7/site-packages/urllib3/connectionpool.py\", line 706, in urlopen\n",
      "    chunked=chunked,\n",
      "  File \"/srv/conda/envs/notebook/lib/python3.7/site-packages/urllib3/connectionpool.py\", line 394, in _make_request\n",
      "    conn.request(method, url, **httplib_request_kw)\n",
      "  File \"/srv/conda/envs/notebook/lib/python3.7/site-packages/urllib3/connection.py\", line 234, in request\n",
      "    super(HTTPConnection, self).request(method, url, body=body, headers=headers)\n",
      "  File \"/srv/conda/envs/notebook/lib/python3.7/http/client.py\", line 1277, in request\n",
      "    self._send_request(method, url, body, headers, encode_chunked)\n",
      "  File \"/srv/conda/envs/notebook/lib/python3.7/http/client.py\", line 1323, in _send_request\n",
      "    self.endheaders(body, encode_chunked=encode_chunked)\n",
      "  File \"/srv/conda/envs/notebook/lib/python3.7/http/client.py\", line 1272, in endheaders\n",
      "    self._send_output(message_body, encode_chunked=encode_chunked)\n",
      "  File \"/srv/conda/envs/notebook/lib/python3.7/http/client.py\", line 1032, in _send_output\n",
      "    self.send(msg)\n",
      "  File \"/srv/conda/envs/notebook/lib/python3.7/http/client.py\", line 972, in send\n",
      "    self.connect()\n",
      "  File \"/srv/conda/envs/notebook/lib/python3.7/site-packages/urllib3/connection.py\", line 200, in connect\n",
      "    conn = self._new_conn()\n",
      "  File \"/srv/conda/envs/notebook/lib/python3.7/site-packages/urllib3/connection.py\", line 182, in _new_conn\n",
      "    self, \"Failed to establish a new connection: %s\" % e\n",
      "urllib3.exceptions.NewConnectionError: <urllib3.connection.HTTPConnection object at 0x7f1b76eb2d50>: Failed to establish a new connection: [Errno 110] Connection timed out\n",
      "\n",
      "During handling of the above exception, another exception occurred:\n",
      "\n",
      "Traceback (most recent call last):\n",
      "  File \"/srv/conda/envs/notebook/lib/python3.7/site-packages/requests/adapters.py\", line 449, in send\n",
      "    timeout=timeout\n",
      "  File \"/srv/conda/envs/notebook/lib/python3.7/site-packages/urllib3/connectionpool.py\", line 756, in urlopen\n",
      "    method, url, error=e, _pool=self, _stacktrace=sys.exc_info()[2]\n",
      "  File \"/srv/conda/envs/notebook/lib/python3.7/site-packages/urllib3/util/retry.py\", line 574, in increment\n",
      "    raise MaxRetryError(_pool, url, error or ResponseError(cause))\n",
      "urllib3.exceptions.MaxRetryError: HTTPConnectionPool(host='104.197.68.240', port=10101): Max retries exceeded with url: / (Caused by NewConnectionError('<urllib3.connection.HTTPConnection object at 0x7f1b76eb2d50>: Failed to establish a new connection: [Errno 110] Connection timed out'))\n",
      "\n",
      "During handling of the above exception, another exception occurred:\n",
      "\n",
      "Traceback (most recent call last):\n",
      "  File \"/srv/conda/envs/notebook/lib/python3.7/site-packages/gofer/ok.py\", line 313, in log_check\n",
      "    response = requests.post(request_url, json=json_params)\n",
      "  File \"/srv/conda/envs/notebook/lib/python3.7/site-packages/requests/api.py\", line 117, in post\n",
      "    return request('post', url, data=data, json=json, **kwargs)\n",
      "  File \"/srv/conda/envs/notebook/lib/python3.7/site-packages/requests/api.py\", line 61, in request\n",
      "    return session.request(method=method, url=url, **kwargs)\n",
      "  File \"/srv/conda/envs/notebook/lib/python3.7/site-packages/requests/sessions.py\", line 542, in request\n",
      "    resp = self.send(prep, **send_kwargs)\n",
      "  File \"/srv/conda/envs/notebook/lib/python3.7/site-packages/requests/sessions.py\", line 655, in send\n",
      "    r = adapter.send(request, **kwargs)\n",
      "  File \"/srv/conda/envs/notebook/lib/python3.7/site-packages/requests/adapters.py\", line 516, in send\n",
      "    raise ConnectionError(e, request=request)\n",
      "requests.exceptions.ConnectionError: HTTPConnectionPool(host='104.197.68.240', port=10101): Max retries exceeded with url: / (Caused by NewConnectionError('<urllib3.connection.HTTPConnection object at 0x7f1b76eb2d50>: Failed to establish a new connection: [Errno 110] Connection timed out'))\n"
     ]
    }
   ],
   "source": [
    "# For your convenience, you can run this cell to run all the tests at once!\n",
    "import glob\n",
    "from gofer.ok import check_all\n",
    "display(check_all(glob.glob('tests/q*.py')))"
   ]
  },
  {
   "cell_type": "code",
   "execution_count": null,
   "metadata": {},
   "outputs": [],
   "source": []
  }
 ],
 "metadata": {
  "anaconda-cloud": {},
  "course": "8x",
  "kernelspec": {
   "display_name": "Python 3 (ipykernel)",
   "language": "python",
   "name": "python3"
  },
  "lab": "lab01",
  "language_info": {
   "codemirror_mode": {
    "name": "ipython",
    "version": 3
   },
   "file_extension": ".py",
   "mimetype": "text/x-python",
   "name": "python",
   "nbconvert_exporter": "python",
   "pygments_lexer": "ipython3",
   "version": "3.9.6"
  },
  "section": "2"
 },
 "nbformat": 4,
 "nbformat_minor": 1
}
