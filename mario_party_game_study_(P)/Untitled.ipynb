{
 "cells": [
  {
   "cell_type": "code",
   "execution_count": 1,
   "id": "405245d2",
   "metadata": {},
   "outputs": [],
   "source": [
    "import numpy as np\n",
    "import math\n",
    "from datascience import *\n",
    "import matplotlib\n",
    "%matplotlib inline\n",
    "import matplotlib.pyplot as plt\n",
    "plt.style.use('fivethirtyeight')\n",
    "import warnings\n",
    "warnings.simplefilter('ignore', FutureWarning)\n",
    "warnings.simplefilter('ignore', UserWarning)\n",
    "from matplotlib import patches"
   ]
  },
  {
   "cell_type": "code",
   "execution_count": 2,
   "id": "70c5fe0f",
   "metadata": {},
   "outputs": [
    {
     "data": {
      "text/html": [
       "<table border=\"1\" class=\"dataframe\">\n",
       "    <thead>\n",
       "        <tr>\n",
       "            <th>res_juego</th> <th>count</th>\n",
       "        </tr>\n",
       "    </thead>\n",
       "    <tbody>\n",
       "        <tr>\n",
       "            <td>1        </td> <td>3    </td>\n",
       "        </tr>\n",
       "        <tr>\n",
       "            <td>2        </td> <td>1    </td>\n",
       "        </tr>\n",
       "        <tr>\n",
       "            <td>3        </td> <td>1    </td>\n",
       "        </tr>\n",
       "        <tr>\n",
       "            <td>4        </td> <td>5    </td>\n",
       "        </tr>\n",
       "        <tr>\n",
       "            <td>5        </td> <td>2    </td>\n",
       "        </tr>\n",
       "        <tr>\n",
       "            <td>6        </td> <td>3    </td>\n",
       "        </tr>\n",
       "    </tbody>\n",
       "</table>"
      ],
      "text/plain": [
       "res_juego | count\n",
       "1         | 3\n",
       "2         | 1\n",
       "3         | 1\n",
       "4         | 5\n",
       "5         | 2\n",
       "6         | 3"
      ]
     },
     "execution_count": 2,
     "metadata": {},
     "output_type": "execute_result"
    }
   ],
   "source": [
    "normal_d = np.array([1,2,3,4,5,6])\n",
    "boo_d = np.array([-1,-1,5,5,7,7])\n",
    "normal_game = Table().with_columns(\n",
    "    \"res_juego\",np.random.choice(normal_d,15))\n",
    "normal_game.group(\"res_juego\").sort(\"res_juego\")"
   ]
  },
  {
   "cell_type": "code",
   "execution_count": 3,
   "id": "db4256ba",
   "metadata": {},
   "outputs": [],
   "source": [
    "def sort_elements(table):\n",
    "    aux = table.group(\"res_juego\").sort(\"res_juego\")\n",
    "    for i in normal_d:\n",
    "        if i not in aux.column(0):\n",
    "            aux.append([i,0])\n",
    "    return aux.sort(\"res_juego\")\n",
    "    \n",
    "def get_frecuency(table, num):\n",
    "    return table.column('count')[num-1]/sum(table.column('count'))\n",
    "\n",
    "def bootstrap(dice,num, rep):\n",
    "    frecuency = Table().with_columns(\"frecuency\", make_array())\n",
    "    for i in range(rep):\n",
    "        aux = Table().with_columns(\n",
    "            \"res_juego\",np.random.choice(dice,15))\n",
    "        aux = sort_elements(aux)\n",
    "        f = get_frecuency(aux,6)\n",
    "        frecuency.append([f])\n",
    "    return frecuency"
   ]
  },
  {
   "cell_type": "code",
   "execution_count": 4,
   "id": "d1906f1b",
   "metadata": {},
   "outputs": [
    {
     "data": {
      "text/html": [
       "<table border=\"1\" class=\"dataframe\">\n",
       "    <thead>\n",
       "        <tr>\n",
       "            <th>frecuency</th> <th>count</th>\n",
       "        </tr>\n",
       "    </thead>\n",
       "    <tbody>\n",
       "        <tr>\n",
       "            <td>0        </td> <td>680  </td>\n",
       "        </tr>\n",
       "        <tr>\n",
       "            <td>0.0666667</td> <td>1973 </td>\n",
       "        </tr>\n",
       "        <tr>\n",
       "            <td>0.133333 </td> <td>2666 </td>\n",
       "        </tr>\n",
       "        <tr>\n",
       "            <td>0.2      </td> <td>2428 </td>\n",
       "        </tr>\n",
       "        <tr>\n",
       "            <td>0.266667 </td> <td>1401 </td>\n",
       "        </tr>\n",
       "        <tr>\n",
       "            <td>0.333333 </td> <td>590  </td>\n",
       "        </tr>\n",
       "        <tr>\n",
       "            <td>0.4      </td> <td>202  </td>\n",
       "        </tr>\n",
       "        <tr>\n",
       "            <td>0.466667 </td> <td>52   </td>\n",
       "        </tr>\n",
       "        <tr>\n",
       "            <td>0.533333 </td> <td>7    </td>\n",
       "        </tr>\n",
       "        <tr>\n",
       "            <td>0.6      </td> <td>1    </td>\n",
       "        </tr>\n",
       "    </tbody>\n",
       "</table>"
      ],
      "text/plain": [
       "<IPython.core.display.HTML object>"
      ]
     },
     "metadata": {},
     "output_type": "display_data"
    }
   ],
   "source": [
    "tabla = bootstrap(normal_d,6, 10000)\n",
    "tabla.group(\"frecuency\").show()"
   ]
  },
  {
   "cell_type": "code",
   "execution_count": 5,
   "id": "f3676374",
   "metadata": {},
   "outputs": [
    {
     "data": {
      "image/png": "[encoded data removed]",
      "text/plain": [
       "<Figure size 432x288 with 1 Axes>"
      ]
     },
     "metadata": {},
     "output_type": "display_data"
    }
   ],
   "source": [
    "left_p = np.percentile(tabla.column(\"frecuency\"),2.5)\n",
    "right_p = np.percentile(tabla.column(\"frecuency\"),93.5)\n",
    "tabla.hist(\"frecuency\",bins=20,density=True, left_end=left_p, right_end=right_p)"
   ]
  },
  {
   "cell_type": "code",
   "execution_count": 6,
   "id": "2b250b6a",
   "metadata": {},
   "outputs": [
    {
     "data": {
      "text/html": [
       "<table border=\"1\" class=\"dataframe\">\n",
       "    <thead>\n",
       "        <tr>\n",
       "            <th>frecuency</th> <th>count</th>\n",
       "        </tr>\n",
       "    </thead>\n",
       "    <tbody>\n",
       "        <tr>\n",
       "            <td>0        </td> <td>51   </td>\n",
       "        </tr>\n",
       "        <tr>\n",
       "            <td>0.0666667</td> <td>169  </td>\n",
       "        </tr>\n",
       "        <tr>\n",
       "            <td>0.133333 </td> <td>642  </td>\n",
       "        </tr>\n",
       "        <tr>\n",
       "            <td>0.2      </td> <td>1310 </td>\n",
       "        </tr>\n",
       "        <tr>\n",
       "            <td>0.266667 </td> <td>1931 </td>\n",
       "        </tr>\n",
       "        <tr>\n",
       "            <td>0.333333 </td> <td>2158 </td>\n",
       "        </tr>\n",
       "        <tr>\n",
       "            <td>0.4      </td> <td>1766 </td>\n",
       "        </tr>\n",
       "        <tr>\n",
       "            <td>0.466667 </td> <td>1115 </td>\n",
       "        </tr>\n",
       "        <tr>\n",
       "            <td>0.533333 </td> <td>551  </td>\n",
       "        </tr>\n",
       "        <tr>\n",
       "            <td>0.6      </td> <td>235  </td>\n",
       "        </tr>\n",
       "        <tr>\n",
       "            <td>0.666667 </td> <td>61   </td>\n",
       "        </tr>\n",
       "        <tr>\n",
       "            <td>0.733333 </td> <td>10   </td>\n",
       "        </tr>\n",
       "        <tr>\n",
       "            <td>0.933333 </td> <td>1    </td>\n",
       "        </tr>\n",
       "    </tbody>\n",
       "</table>"
      ],
      "text/plain": [
       "<IPython.core.display.HTML object>"
      ]
     },
     "metadata": {},
     "output_type": "display_data"
    }
   ],
   "source": [
    "tabla = bootstrap(boo_d,3, 10000)\n",
    "tabla.group(\"frecuency\").show()"
   ]
  },
  {
   "cell_type": "code",
   "execution_count": 7,
   "id": "17d1df37",
   "metadata": {},
   "outputs": [
    {
     "data": {
      "image/png": "[encoded data removed]",
      "text/plain": [
       "<Figure size 432x288 with 1 Axes>"
      ]
     },
     "metadata": {},
     "output_type": "display_data"
    }
   ],
   "source": [
    "left_p = np.percentile(tabla.column(\"frecuency\"),2.5)\n",
    "right_p = np.percentile(tabla.column(\"frecuency\"),93.5)\n",
    "tabla.hist(\"frecuency\",bins=20,density=True, left_end=left_p, right_end=right_p)"
   ]
  },
  {
   "cell_type": "code",
   "execution_count": null,
   "id": "e29e320e",
   "metadata": {},
   "outputs": [],
   "source": []
  }
 ],
 "metadata": {
  "kernelspec": {
   "display_name": "Python 3 (ipykernel)",
   "language": "python",
   "name": "python3"
  },
  "language_info": {
   "codemirror_mode": {
    "name": "ipython",
    "version": 3
   },
   "file_extension": ".py",
   "mimetype": "text/x-python",
   "name": "python",
   "nbconvert_exporter": "python",
   "pygments_lexer": "ipython3",
   "version": "3.10.2"
  }
 },
 "nbformat": 4,
 "nbformat_minor": 5
}
