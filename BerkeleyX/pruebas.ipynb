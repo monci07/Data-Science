{
 "cells": [
  {
   "cell_type": "code",
   "execution_count": null,
   "id": "0f47af4c",
   "metadata": {},
   "outputs": [],
   "source": [
    "x = 2\n",
    "x = 3\n",
    "x = x + x"
   ]
  },
  {
   "cell_type": "code",
   "execution_count": null,
   "id": "f2925f30",
   "metadata": {},
   "outputs": [],
   "source": [
    "x"
   ]
  },
  {
   "cell_type": "code",
   "execution_count": null,
   "id": "e0c386be",
   "metadata": {},
   "outputs": [],
   "source": [
    "2 + 8 / 4 ** 2"
   ]
  },
  {
   "cell_type": "code",
   "execution_count": null,
   "id": "dd8abe21",
   "metadata": {},
   "outputs": [],
   "source": [
    "max(1, 7, -8)"
   ]
  },
  {
   "cell_type": "code",
   "execution_count": null,
   "id": "6ee13025",
   "metadata": {},
   "outputs": [],
   "source": [
    "abs(min(-9, -12))"
   ]
  },
  {
   "cell_type": "code",
   "execution_count": null,
   "id": "8ee4a713",
   "metadata": {},
   "outputs": [],
   "source": [
    "x = 3\n",
    "y = '4'\n",
    "z = '5.6'"
   ]
  },
  {
   "cell_type": "code",
   "execution_count": null,
   "id": "84c1d73d",
   "metadata": {},
   "outputs": [],
   "source": [
    "x+y"
   ]
  },
  {
   "cell_type": "code",
   "execution_count": null,
   "id": "5575d4b0",
   "metadata": {},
   "outputs": [],
   "source": [
    "x+int(y+z)"
   ]
  },
  {
   "cell_type": "code",
   "execution_count": null,
   "id": "5b4acba3",
   "metadata": {},
   "outputs": [],
   "source": [
    "y*z"
   ]
  },
  {
   "cell_type": "code",
   "execution_count": 1,
   "id": "599bacea",
   "metadata": {},
   "outputs": [],
   "source": [
    "import numpy as np\n",
    "from datascience import *"
   ]
  },
  {
   "cell_type": "code",
   "execution_count": 3,
   "id": "a671d8a4",
   "metadata": {},
   "outputs": [],
   "source": [
    "GP_D = make_array(0.40,0.34)"
   ]
  },
  {
   "cell_type": "code",
   "execution_count": 6,
   "id": "2de96211",
   "metadata": {},
   "outputs": [
    {
     "data": {
      "text/plain": [
       "array([0.40402194, 0.59597806])"
      ]
     },
     "execution_count": 6,
     "metadata": {},
     "output_type": "execute_result"
    }
   ],
   "source": [
    "sample_proportions(1641,GP_D)"
   ]
  }
 ],
 "metadata": {
  "kernelspec": {
   "display_name": "Python 3 (ipykernel)",
   "language": "python",
   "name": "python3"
  },
  "language_info": {
   "codemirror_mode": {
    "name": "ipython",
    "version": 3
   },
   "file_extension": ".py",
   "mimetype": "text/x-python",
   "name": "python",
   "nbconvert_exporter": "python",
   "pygments_lexer": "ipython3",
   "version": "3.9.6"
  }
 },
 "nbformat": 4,
 "nbformat_minor": 5
}
